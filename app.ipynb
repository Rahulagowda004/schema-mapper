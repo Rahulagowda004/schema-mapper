{
 "cells": [
  {
   "cell_type": "code",
   "execution_count": 1,
   "id": "7fb8abb2",
   "metadata": {},
   "outputs": [],
   "source": [
    "from langchain_core.output_parsers import StrOutputParser\n",
    "from langchain_core.prompts import PromptTemplate\n",
    "from langchain_openai import AzureChatOpenAI\n",
    "from dotenv import load_dotenv\n",
    "import json\n",
    "import os"
   ]
  },
  {
   "cell_type": "code",
   "execution_count": 2,
   "id": "1a5bc56c",
   "metadata": {},
   "outputs": [
    {
     "data": {
      "text/plain": [
       "True"
      ]
     },
     "execution_count": 2,
     "metadata": {},
     "output_type": "execute_result"
    }
   ],
   "source": [
    "load_dotenv()"
   ]
  },
  {
   "cell_type": "code",
   "execution_count": 3,
   "id": "11b7ff48",
   "metadata": {},
   "outputs": [],
   "source": [
    "with open (\"testcases/test case 1/NIPS-2017-attention-is-all-you-need-Bibtex.txt\", \"r\") as file:\n",
    "    passage = file.read()\n",
    "    \n",
    "with open (\"testcases/test case 1/paper citations_schema.json\", \"r\") as file:\n",
    "    schema = json.load(file)"
   ]
  },
  {
   "cell_type": "code",
   "execution_count": 11,
   "id": "a270305c",
   "metadata": {},
   "outputs": [],
   "source": [
    "llm = AzureChatOpenAI(\n",
    "    azure_endpoint=os.getenv(\"AZURE_OPENAI_ENDPOINT\"),\n",
    "    azure_deployment=os.getenv(\"AZURE_OPENAI_LLM_DEPLOYMENT\"), \n",
    "    api_version=os.getenv(\"AZURE_OPENAI_API_VERSION\"),\n",
    "    api_key=os.getenv(\"AZURE_OPENAI_API_KEY\"),\n",
    "    temperature=0.7,\n",
    "    model_kwargs={\"response_format\": {\"type\": \"json_object\"}}\n",
    "    )"
   ]
  },
  {
   "cell_type": "code",
   "execution_count": 15,
   "id": "1123adbe",
   "metadata": {},
   "outputs": [],
   "source": [
    "from langchain_core.output_parsers import JsonOutputParser\n",
    "\n",
    "parser = JsonOutputParser()\n",
    "\n",
    "prompt = PromptTemplate(\n",
    "    template = \"\"\"\n",
    "    You are a JSON generator. Your task is to:\n",
    "    1. Carefully read the following passage.\n",
    "    2. Analyze the JSON Schema provided.\n",
    "    3. Generate a JSON object that captures the key details from the passage strictly according to the schema provided keeping data type and regular expression in consideration.\n",
    "    4. Ensure that only keys present in the schema are included in the output JSON, do not generate extra keys or content which is not in the schema.\n",
    "    \n",
    "    **passage**: {passage}\n",
    "    \n",
    "    **schema**: {schema}\n",
    "    \n",
    "    **output**: Return only the generated JSON. Do not include any explanation, markdown, or surrounding text.\n",
    "    \\n{format_instruction}\n",
    "    \"\"\",\n",
    "    input_variables=[\"passage\",\"schema\"],\n",
    "    partial_variables={\"format_instruction\": parser.get_format_instructions()},\n",
    ")\n",
    "\n",
    "chain = prompt | llm | parser"
   ]
  },
  {
   "cell_type": "code",
   "execution_count": 16,
   "id": "2edbff24",
   "metadata": {},
   "outputs": [],
   "source": [
    "result = chain.invoke({\"passage\": passage,\"schema\":json.dumps(schema)})"
   ]
  },
  {
   "cell_type": "code",
   "execution_count": 17,
   "id": "64c9261c",
   "metadata": {},
   "outputs": [
    {
     "data": {
      "text/plain": [
       "{'authors': [{'given-names': 'Ashish', 'family-names': 'Vaswani'},\n",
       "  {'given-names': 'Noam', 'family-names': 'Shazeer'},\n",
       "  {'given-names': 'Niki', 'family-names': 'Parmar'},\n",
       "  {'given-names': 'Jakob', 'family-names': 'Uszkoreit'},\n",
       "  {'given-names': 'Llion', 'family-names': 'Jones'},\n",
       "  {'given-names': 'Aidan N', 'family-names': 'Gomez'},\n",
       "  {'given-names': '\\\\\\\\L ukasz', 'family-names': 'Kaiser'},\n",
       "  {'given-names': 'Illia', 'family-names': 'Polosukhin'}],\n",
       " 'cff-version': '1.2.0',\n",
       " 'message': 'If you use this software, please cite it using the metadata from this file.',\n",
       " 'title': 'Attention is All you Need',\n",
       " 'type': 'software',\n",
       " 'url': 'https://proceedings.neurips.cc/paper_files/paper/2017/file/3f5ee243547dee91fbd053c1c4a845aa-Paper.pdf',\n",
       " 'version': '30',\n",
       " 'identifiers': [{'type': 'url',\n",
       "   'value': 'https://proceedings.neurips.cc/paper_files/paper/2017/file/3f5ee243547dee91fbd053c1c4a845aa-Paper.pdf'}],\n",
       " 'date-released': '2017-01-01'}"
      ]
     },
     "execution_count": 17,
     "metadata": {},
     "output_type": "execute_result"
    }
   ],
   "source": [
    "result"
   ]
  }
 ],
 "metadata": {
  "kernelspec": {
   "display_name": "schema-mapper",
   "language": "python",
   "name": "python3"
  },
  "language_info": {
   "codemirror_mode": {
    "name": "ipython",
    "version": 3
   },
   "file_extension": ".py",
   "mimetype": "text/x-python",
   "name": "python",
   "nbconvert_exporter": "python",
   "pygments_lexer": "ipython3",
   "version": "3.12.3"
  }
 },
 "nbformat": 4,
 "nbformat_minor": 5
}
