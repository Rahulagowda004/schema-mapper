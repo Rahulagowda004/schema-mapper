{
 "cells": [
  {
   "cell_type": "code",
   "execution_count": 2,
   "id": "7fb8abb2",
   "metadata": {},
   "outputs": [],
   "source": [
    "from langchain_core.output_parsers import StrOutputParser\n",
    "from langchain_core.prompts import PromptTemplate\n",
    "from langchain_openai import AzureChatOpenAI\n",
    "from dotenv import load_dotenv\n",
    "import json\n",
    "import os"
   ]
  },
  {
   "cell_type": "code",
   "execution_count": 3,
   "id": "1a5bc56c",
   "metadata": {},
   "outputs": [
    {
     "data": {
      "text/plain": [
       "True"
      ]
     },
     "execution_count": 3,
     "metadata": {},
     "output_type": "execute_result"
    }
   ],
   "source": [
    "load_dotenv()"
   ]
  },
  {
   "cell_type": "code",
   "execution_count": 21,
   "id": "afa19a63",
   "metadata": {},
   "outputs": [],
   "source": [
    "#test case 1\n",
    "with open (r\"testcases\\test case 1\\NIPS-2017-attention-is-all-you-need-Bibtex.txt\", \"r\") as file:\n",
    "    passage = file.read()\n",
    "    \n",
    "with open (r\"testcases/test case 1/paper citations_schema.json\", \"r\") as file:\n",
    "    schema = json.load(file)"
   ]
  },
  {
   "cell_type": "code",
   "execution_count": 24,
   "id": "11b7ff48",
   "metadata": {},
   "outputs": [],
   "source": [
    "#test case 2\n",
    "with open (r\"testcases\\test case 2\\github actions sample input.txt\", \"r\") as file:\n",
    "    passage = file.read()\n",
    "    \n",
    "with open (r\"testcases\\test case 2\\github_actions_schema.json\", \"r\") as file:\n",
    "    schema = json.load(file)"
   ]
  },
  {
   "cell_type": "code",
   "execution_count": 14,
   "id": "99505aeb",
   "metadata": {},
   "outputs": [],
   "source": [
    "#test case 3\n",
    "with open (r\"testcases\\test case 3\\resume.txt\", \"r\") as file:\n",
    "    passage = file.read()\n",
    "    \n",
    "with open (r\"testcases/test case 3/convert your resume to this schema.json\", \"r\") as file:\n",
    "    schema = json.load(file)"
   ]
  },
  {
   "cell_type": "code",
   "execution_count": 25,
   "id": "a270305c",
   "metadata": {},
   "outputs": [],
   "source": [
    "llm = AzureChatOpenAI(\n",
    "    azure_endpoint=os.getenv(\"AZURE_OPENAI_ENDPOINT\"),\n",
    "    azure_deployment=os.getenv(\"AZURE_OPENAI_LLM_DEPLOYMENT\"), \n",
    "    api_version=os.getenv(\"AZURE_OPENAI_API_VERSION\"),\n",
    "    api_key=os.getenv(\"AZURE_OPENAI_API_KEY\"),\n",
    "    temperature=0.4,\n",
    "    top_p=0.9,\n",
    "    model_kwargs={  \n",
    "        \"response_format\": {\"type\": \"json_object\"},\n",
    "    }\n",
    "    )"
   ]
  },
  {
   "cell_type": "code",
   "execution_count": 26,
   "id": "1123adbe",
   "metadata": {},
   "outputs": [],
   "source": [
    "from langchain_core.output_parsers import JsonOutputParser\n",
    "\n",
    "parser = JsonOutputParser()\n",
    "\n",
    "prompt = PromptTemplate(\n",
    "    template = \"\"\"\n",
    "   You are a strict JSON generator. Your task is to:\n",
    "    1. Carefully read the passage below.\n",
    "    2. Analyze the given JSON Schema.\n",
    "    3. Generate a valid JSON object using only the keys defined in the schema.\n",
    "    4. Use correct data types as defined in the schema, including:\n",
    "    - Only lowercase booleans (`true`, `false`)\n",
    "    - No strings like `\"true\"` or `\"false\"`\n",
    "    - No uppercase booleans (`True`, `False`)\n",
    "    5. Do not include any extra keys or explanations. Return only valid and strict JSON output.\n",
    "    6. Ensure that all values match their expected types, formats, and regular expressions as defined in the schema.\n",
    "\n",
    "    **Passage**: {passage}\n",
    "\n",
    "    **Schema**: {schema} \n",
    "\n",
    "    **Output**: (Only return the JSON. No markdown, no comments, no extra text.)\n",
    "\n",
    "    {format_instruction}\n",
    "    \"\"\",\n",
    "    input_variables=[\"passage\",\"schema\"],\n",
    "    partial_variables={\"format_instruction\": parser.get_format_instructions()},\n",
    ")\n",
    "\n",
    "chain = prompt | llm | parser"
   ]
  },
  {
   "cell_type": "code",
   "execution_count": 27,
   "id": "f11d9ce7",
   "metadata": {},
   "outputs": [
    {
     "name": "stdout",
     "output_type": "stream",
     "text": [
      "{\n",
      "  \"name\": \"MkDocs Publisher\",\n",
      "  \"author\": \"DevRel Team\",\n",
      "  \"description\": \"A simple action to build an MkDocs site and push it to the gh-pages branch. Should be easy to use.\",\n",
      "  \"inputs\": {\n",
      "    \"python-version\": {\n",
      "      \"description\": \"The version of Python to set up for building.\",\n",
      "      \"required\": false,\n",
      "      \"default\": \"3.11\"\n",
      "    },\n",
      "    \"requirements-file\": {\n",
      "      \"description\": \"Path to the Python requirements file\",\n",
      "      \"required\": true\n",
      "    },\n",
      "    \"gh-token\": {\n",
      "      \"description\": \"GitHub token for deployment.\",\n",
      "      \"required\": true,\n",
      "      \"deprecationMessage\": \"Prefer using GITHUB_TOKEN environment variable directly if permissions allow.\"\n",
      "    }\n",
      "  },\n",
      "  \"runs\": {\n",
      "    \"using\": \"composite\",\n",
      "    \"steps\": [\n",
      "      {\n",
      "        \"name\": \"Checkout Code\",\n",
      "        \"uses\": \"actions/checkout@v4\"\n",
      "      },\n",
      "      {\n",
      "        \"name\": \"Setup Python\",\n",
      "        \"uses\": \"actions/setup-python@v5\",\n",
      "        \"with\": {\n",
      "          \"python-version\": \"${{ inputs.python-version }}\"\n",
      "        },\n",
      "        \"id\": \"setup_python\"\n",
      "      },\n",
      "      {\n",
      "        \"name\": \"Install Python Packages\",\n",
      "        \"run\": \"pip install -r ${{ inputs.requirements-file }}\",\n",
      "        \"shell\": \"bash\"\n",
      "      },\n",
      "      {\n",
      "        \"name\": \"Build Site\",\n",
      "        \"run\": \"mkdocs build\",\n",
      "        \"shell\": \"bash\"\n",
      "      },\n",
      "      {\n",
      "        \"name\": \"Deploy to Pages\",\n",
      "        \"uses\": \"peaceiris/actions-gh-pages@v3\",\n",
      "        \"with\": {\n",
      "          \"github_token\": \"${{ inputs.gh-token }}\",\n",
      "          \"publish_dir\": \"./site\"\n",
      "        },\n",
      "        \"id\": \"deploy\",\n",
      "        \"if\": \"github.ref == 'refs/heads/main'\"\n",
      "      }\n",
      "    ]\n",
      "  },\n",
      "  \"outputs\": {\n",
      "    \"page-url\": {\n",
      "      \"description\": \"The URL of the deployed GitHub Pages site.\",\n",
      "      \"value\": \"${{ steps.deploy.outputs.page_url }}\"\n",
      "    }\n",
      "  },\n",
      "  \"branding\": {\n",
      "    \"color\": \"blue\",\n",
      "    \"icon\": \"book-open\"\n",
      "  }\n",
      "}\n"
     ]
    }
   ],
   "source": [
    "result = json.dumps(chain.invoke({\"passage\": passage,\"schema\":json.dumps(schema)}),indent=2)\n",
    "print(result)"
   ]
  }
 ],
 "metadata": {
  "kernelspec": {
   "display_name": "schema-mapper",
   "language": "python",
   "name": "python3"
  },
  "language_info": {
   "codemirror_mode": {
    "name": "ipython",
    "version": 3
   },
   "file_extension": ".py",
   "mimetype": "text/x-python",
   "name": "python",
   "nbconvert_exporter": "python",
   "pygments_lexer": "ipython3",
   "version": "3.12.3"
  }
 },
 "nbformat": 4,
 "nbformat_minor": 5
}
